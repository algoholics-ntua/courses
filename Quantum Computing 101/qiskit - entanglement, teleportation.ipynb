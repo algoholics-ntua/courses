{
 "cells": [
  {
   "cell_type": "markdown",
   "metadata": {},
   "source": [
    "# Time to Design some circuits #\n",
    "\n",
    "First of all, we need to install qiskit. On the previous notebook we ran !pip install qiskit and that should do.\n",
    "\n",
    "Furthermore, we need to register on the IBM Quantum Experience website if we want to run our experiments on actual quantum machines and not just a simulator. You can register an account here: https://quantum-computing.ibm.com/"
   ]
  },
  {
   "cell_type": "markdown",
   "metadata": {},
   "source": [
    "# Entanglement #\n",
    "\n",
    "We want somehow to capture the notion of 'twin' qubits. That is, we want a way to generate 2 qubits and guarantee that when one is measured and is assigned a value, the other one will be assigned the same value as well.\n",
    "\n",
    "Entanglement is kind of a crazy thing, more information from reliable sources can be found here: https://en.wikipedia.org/wiki/Quantum_entanglement\n",
    "\n",
    "Let's first define the 2 qubits."
   ]
  },
  {
   "cell_type": "code",
   "execution_count": 45,
   "metadata": {},
   "outputs": [
    {
     "name": "stdout",
     "output_type": "stream",
     "text": [
      "Requirement already up-to-date: qiskit in c:\\users\\infinity\\anaconda3\\lib\\site-packages (0.23.0)\n",
      "Requirement already satisfied, skipping upgrade: qiskit-aer==0.7.0 in c:\\users\\infinity\\anaconda3\\lib\\site-packages (from qiskit) (0.7.0)\n",
      "Requirement already satisfied, skipping upgrade: qiskit-ignis==0.5.0 in c:\\users\\infinity\\anaconda3\\lib\\site-packages (from qiskit) (0.5.0)\n",
      "Requirement already satisfied, skipping upgrade: qiskit-aqua==0.8.0 in c:\\users\\infinity\\anaconda3\\lib\\site-packages (from qiskit) (0.8.0)\n",
      "Requirement already satisfied, skipping upgrade: qiskit-ibmq-provider==0.11.0 in c:\\users\\infinity\\anaconda3\\lib\\site-packages (from qiskit) (0.11.0)\n",
      "Requirement already satisfied, skipping upgrade: qiskit-terra==0.16.0 in c:\\users\\infinity\\anaconda3\\lib\\site-packages (from qiskit) (0.16.0)\n",
      "Requirement already satisfied, skipping upgrade: scipy>=1.0 in c:\\users\\infinity\\anaconda3\\lib\\site-packages (from qiskit-aer==0.7.0->qiskit) (1.5.0)\n",
      "Requirement already satisfied, skipping upgrade: pybind11>=2.4 in c:\\users\\infinity\\anaconda3\\lib\\site-packages (from qiskit-aer==0.7.0->qiskit) (2.6.0)\n",
      "Requirement already satisfied, skipping upgrade: numpy>=1.16.3 in c:\\users\\infinity\\anaconda3\\lib\\site-packages (from qiskit-aer==0.7.0->qiskit) (1.18.5)\n",
      "Requirement already satisfied, skipping upgrade: cython>=0.27.1 in c:\\users\\infinity\\anaconda3\\lib\\site-packages (from qiskit-aer==0.7.0->qiskit) (0.29.21)\n",
      "Requirement already satisfied, skipping upgrade: scikit-learn>=0.17 in c:\\users\\infinity\\anaconda3\\lib\\site-packages (from qiskit-ignis==0.5.0->qiskit) (0.23.1)\n",
      "Requirement already satisfied, skipping upgrade: setuptools>=40.1.0 in c:\\users\\infinity\\anaconda3\\lib\\site-packages (from qiskit-ignis==0.5.0->qiskit) (49.2.0.post20200714)\n",
      "Requirement already satisfied, skipping upgrade: docplex in c:\\users\\infinity\\anaconda3\\lib\\site-packages (from qiskit-aqua==0.8.0->qiskit) (2.15.194)\n",
      "Requirement already satisfied, skipping upgrade: pandas in c:\\users\\infinity\\anaconda3\\lib\\site-packages (from qiskit-aqua==0.8.0->qiskit) (1.0.5)\n",
      "Requirement already satisfied, skipping upgrade: fastdtw in c:\\users\\infinity\\anaconda3\\lib\\site-packages (from qiskit-aqua==0.8.0->qiskit) (0.3.4)\n",
      "Requirement already satisfied, skipping upgrade: sympy>=1.3 in c:\\users\\infinity\\anaconda3\\lib\\site-packages (from qiskit-aqua==0.8.0->qiskit) (1.6.1)\n",
      "Requirement already satisfied, skipping upgrade: dlx in c:\\users\\infinity\\anaconda3\\lib\\site-packages (from qiskit-aqua==0.8.0->qiskit) (1.0.4)\n",
      "Requirement already satisfied, skipping upgrade: h5py in c:\\users\\infinity\\anaconda3\\lib\\site-packages (from qiskit-aqua==0.8.0->qiskit) (2.10.0)\n",
      "Requirement already satisfied, skipping upgrade: retworkx>=0.5.0 in c:\\users\\infinity\\anaconda3\\lib\\site-packages (from qiskit-aqua==0.8.0->qiskit) (0.5.0)\n",
      "Requirement already satisfied, skipping upgrade: quandl in c:\\users\\infinity\\anaconda3\\lib\\site-packages (from qiskit-aqua==0.8.0->qiskit) (3.5.3)\n",
      "Requirement already satisfied, skipping upgrade: yfinance in c:\\users\\infinity\\anaconda3\\lib\\site-packages (from qiskit-aqua==0.8.0->qiskit) (0.1.55)\n",
      "Requirement already satisfied, skipping upgrade: psutil>=5 in c:\\users\\infinity\\anaconda3\\lib\\site-packages (from qiskit-aqua==0.8.0->qiskit) (5.7.0)\n",
      "Requirement already satisfied, skipping upgrade: nest-asyncio!=1.1.0,>=1.0.0 in c:\\users\\infinity\\anaconda3\\lib\\site-packages (from qiskit-ibmq-provider==0.11.0->qiskit) (1.4.2)\n",
      "Requirement already satisfied, skipping upgrade: urllib3>=1.21.1 in c:\\users\\infinity\\anaconda3\\lib\\site-packages (from qiskit-ibmq-provider==0.11.0->qiskit) (1.25.9)\n",
      "Requirement already satisfied, skipping upgrade: python-dateutil>=2.8.0 in c:\\users\\infinity\\anaconda3\\lib\\site-packages (from qiskit-ibmq-provider==0.11.0->qiskit) (2.8.1)\n",
      "Requirement already satisfied, skipping upgrade: websockets>=8 in c:\\users\\infinity\\anaconda3\\lib\\site-packages (from qiskit-ibmq-provider==0.11.0->qiskit) (8.1)\n",
      "Requirement already satisfied, skipping upgrade: requests>=2.19 in c:\\users\\infinity\\anaconda3\\lib\\site-packages (from qiskit-ibmq-provider==0.11.0->qiskit) (2.24.0)\n",
      "Requirement already satisfied, skipping upgrade: requests-ntlm>=1.1.0 in c:\\users\\infinity\\anaconda3\\lib\\site-packages (from qiskit-ibmq-provider==0.11.0->qiskit) (1.1.0)\n",
      "Requirement already satisfied, skipping upgrade: networkx>=2.2 in c:\\users\\infinity\\anaconda3\\lib\\site-packages (from qiskit-terra==0.16.0->qiskit) (2.4)\n",
      "Requirement already satisfied, skipping upgrade: dill>=0.3 in c:\\users\\infinity\\anaconda3\\lib\\site-packages (from qiskit-terra==0.16.0->qiskit) (0.3.2)\n",
      "Requirement already satisfied, skipping upgrade: python-constraint>=1.4 in c:\\users\\infinity\\anaconda3\\lib\\site-packages (from qiskit-terra==0.16.0->qiskit) (1.4.0)\n",
      "Requirement already satisfied, skipping upgrade: fastjsonschema>=2.10 in c:\\users\\infinity\\anaconda3\\lib\\site-packages (from qiskit-terra==0.16.0->qiskit) (2.14.5)\n",
      "Requirement already satisfied, skipping upgrade: jsonschema>=2.6 in c:\\users\\infinity\\anaconda3\\lib\\site-packages (from qiskit-terra==0.16.0->qiskit) (3.2.0)\n",
      "Requirement already satisfied, skipping upgrade: ply>=3.10 in c:\\users\\infinity\\anaconda3\\lib\\site-packages (from qiskit-terra==0.16.0->qiskit) (3.11)\n",
      "Requirement already satisfied, skipping upgrade: threadpoolctl>=2.0.0 in c:\\users\\infinity\\anaconda3\\lib\\site-packages (from scikit-learn>=0.17->qiskit-ignis==0.5.0->qiskit) (2.1.0)\n",
      "Requirement already satisfied, skipping upgrade: joblib>=0.11 in c:\\users\\infinity\\anaconda3\\lib\\site-packages (from scikit-learn>=0.17->qiskit-ignis==0.5.0->qiskit) (0.16.0)\n",
      "Requirement already satisfied, skipping upgrade: six in c:\\users\\infinity\\anaconda3\\lib\\site-packages (from docplex->qiskit-aqua==0.8.0->qiskit) (1.15.0)\n",
      "Requirement already satisfied, skipping upgrade: pytz>=2017.2 in c:\\users\\infinity\\anaconda3\\lib\\site-packages (from pandas->qiskit-aqua==0.8.0->qiskit) (2020.1)\n",
      "Requirement already satisfied, skipping upgrade: mpmath>=0.19 in c:\\users\\infinity\\anaconda3\\lib\\site-packages (from sympy>=1.3->qiskit-aqua==0.8.0->qiskit) (1.1.0)\n",
      "Requirement already satisfied, skipping upgrade: more-itertools in c:\\users\\infinity\\anaconda3\\lib\\site-packages (from quandl->qiskit-aqua==0.8.0->qiskit) (8.4.0)\n",
      "Requirement already satisfied, skipping upgrade: inflection>=0.3.1 in c:\\users\\infinity\\anaconda3\\lib\\site-packages (from quandl->qiskit-aqua==0.8.0->qiskit) (0.5.1)\n",
      "Requirement already satisfied, skipping upgrade: multitasking>=0.0.7 in c:\\users\\infinity\\anaconda3\\lib\\site-packages (from yfinance->qiskit-aqua==0.8.0->qiskit) (0.0.9)\n",
      "Requirement already satisfied, skipping upgrade: lxml>=4.5.1 in c:\\users\\infinity\\anaconda3\\lib\\site-packages (from yfinance->qiskit-aqua==0.8.0->qiskit) (4.5.2)\n",
      "Requirement already satisfied, skipping upgrade: certifi>=2017.4.17 in c:\\users\\infinity\\anaconda3\\lib\\site-packages (from requests>=2.19->qiskit-ibmq-provider==0.11.0->qiskit) (2020.6.20)\n",
      "Requirement already satisfied, skipping upgrade: idna<3,>=2.5 in c:\\users\\infinity\\anaconda3\\lib\\site-packages (from requests>=2.19->qiskit-ibmq-provider==0.11.0->qiskit) (2.10)\n",
      "Requirement already satisfied, skipping upgrade: chardet<4,>=3.0.2 in c:\\users\\infinity\\anaconda3\\lib\\site-packages (from requests>=2.19->qiskit-ibmq-provider==0.11.0->qiskit) (3.0.4)\n",
      "Requirement already satisfied, skipping upgrade: cryptography>=1.3 in c:\\users\\infinity\\anaconda3\\lib\\site-packages (from requests-ntlm>=1.1.0->qiskit-ibmq-provider==0.11.0->qiskit) (2.9.2)\n",
      "Requirement already satisfied, skipping upgrade: ntlm-auth>=1.0.2 in c:\\users\\infinity\\anaconda3\\lib\\site-packages (from requests-ntlm>=1.1.0->qiskit-ibmq-provider==0.11.0->qiskit) (1.5.0)\n",
      "Requirement already satisfied, skipping upgrade: decorator>=4.3.0 in c:\\users\\infinity\\anaconda3\\lib\\site-packages (from networkx>=2.2->qiskit-terra==0.16.0->qiskit) (4.4.2)\n",
      "Requirement already satisfied, skipping upgrade: pyrsistent>=0.14.0 in c:\\users\\infinity\\anaconda3\\lib\\site-packages (from jsonschema>=2.6->qiskit-terra==0.16.0->qiskit) (0.16.0)\n",
      "Requirement already satisfied, skipping upgrade: attrs>=17.4.0 in c:\\users\\infinity\\anaconda3\\lib\\site-packages (from jsonschema>=2.6->qiskit-terra==0.16.0->qiskit) (19.3.0)\n",
      "Requirement already satisfied, skipping upgrade: cffi!=1.11.3,>=1.8 in c:\\users\\infinity\\anaconda3\\lib\\site-packages (from cryptography>=1.3->requests-ntlm>=1.1.0->qiskit-ibmq-provider==0.11.0->qiskit) (1.14.0)\n",
      "Requirement already satisfied, skipping upgrade: pycparser in c:\\users\\infinity\\anaconda3\\lib\\site-packages (from cffi!=1.11.3,>=1.8->cryptography>=1.3->requests-ntlm>=1.1.0->qiskit-ibmq-provider==0.11.0->qiskit) (2.20)\n"
     ]
    }
   ],
   "source": [
    "!pip install -U qiskit\n",
    "from qiskit import *\n",
    "from qiskit.tools.monitor import job_monitor\n",
    "from qiskit.tools.visualization import plot_histogram\n",
    "import matplotlib.pyplot as plt\n",
    "from math import sqrt\n",
    "import numpy as np"
   ]
  },
  {
   "cell_type": "code",
   "execution_count": 2,
   "metadata": {},
   "outputs": [],
   "source": [
    "qr = QuantumRegister( 2 )\n",
    "cr = ClassicalRegister( 2 )"
   ]
  },
  {
   "cell_type": "code",
   "execution_count": 3,
   "metadata": {},
   "outputs": [
    {
     "data": {
      "text/html": [
       "<pre style=\"word-wrap: normal;white-space: pre;background: #fff0;line-height: 1.1;font-family: &quot;Courier New&quot;,Courier,monospace\">      \n",
       "q0_0: \n",
       "      \n",
       "q0_1: \n",
       "      \n",
       "c0: 2/\n",
       "      </pre>"
      ],
      "text/plain": [
       "      \n",
       "q0_0: \n",
       "      \n",
       "q0_1: \n",
       "      \n",
       "c0: 2/\n",
       "      "
      ]
     },
     "execution_count": 3,
     "metadata": {},
     "output_type": "execute_result"
    }
   ],
   "source": [
    "circuit = QuantumCircuit( qr, cr ) \n",
    "%matplotlib inline\n",
    "circuit.draw()"
   ]
  },
  {
   "cell_type": "markdown",
   "metadata": {},
   "source": [
    "# So far so good #\n",
    "\n",
    "We have implemented an empty circuit with 2 quantum and two classical bits. Let's do some magic."
   ]
  },
  {
   "cell_type": "code",
   "execution_count": 4,
   "metadata": {},
   "outputs": [
    {
     "data": {
      "text/html": [
       "<pre style=\"word-wrap: normal;white-space: pre;background: #fff0;line-height: 1.1;font-family: &quot;Courier New&quot;,Courier,monospace\">      ┌───┐\n",
       "q0_0: ┤ H ├\n",
       "      └───┘\n",
       "q0_1: ─────\n",
       "           \n",
       "c0: 2/═════\n",
       "           </pre>"
      ],
      "text/plain": [
       "      ┌───┐\n",
       "q0_0: ┤ H ├\n",
       "      └───┘\n",
       "q0_1: ─────\n",
       "           \n",
       "c0: 2/═════\n",
       "           "
      ]
     },
     "execution_count": 4,
     "metadata": {},
     "output_type": "execute_result"
    }
   ],
   "source": [
    "circuit.h(qr[ 0 ])\n",
    "circuit.draw()"
   ]
  },
  {
   "cell_type": "code",
   "execution_count": 5,
   "metadata": {},
   "outputs": [
    {
     "data": {
      "text/html": [
       "<pre style=\"word-wrap: normal;white-space: pre;background: #fff0;line-height: 1.1;font-family: &quot;Courier New&quot;,Courier,monospace\">      ┌───┐     \n",
       "q0_0: ┤ H ├──■──\n",
       "      └───┘┌─┴─┐\n",
       "q0_1: ─────┤ X ├\n",
       "           └───┘\n",
       "c0: 2/══════════\n",
       "                </pre>"
      ],
      "text/plain": [
       "      ┌───┐     \n",
       "q0_0: ┤ H ├──■──\n",
       "      └───┘┌─┴─┐\n",
       "q0_1: ─────┤ X ├\n",
       "           └───┘\n",
       "c0: 2/══════════\n",
       "                "
      ]
     },
     "execution_count": 5,
     "metadata": {},
     "output_type": "execute_result"
    }
   ],
   "source": [
    "circuit.cx( qr[ 0 ], qr[ 1 ] )\n",
    "circuit.draw()"
   ]
  },
  {
   "cell_type": "code",
   "execution_count": 6,
   "metadata": {},
   "outputs": [
    {
     "data": {
      "text/html": [
       "<pre style=\"word-wrap: normal;white-space: pre;background: #fff0;line-height: 1.1;font-family: &quot;Courier New&quot;,Courier,monospace\">      ┌───┐     ┌─┐   \n",
       "q0_0: ┤ H ├──■──┤M├───\n",
       "      └───┘┌─┴─┐└╥┘┌─┐\n",
       "q0_1: ─────┤ X ├─╫─┤M├\n",
       "           └───┘ ║ └╥┘\n",
       "c0: 2/═══════════╩══╩═\n",
       "                 0  1 </pre>"
      ],
      "text/plain": [
       "      ┌───┐     ┌─┐   \n",
       "q0_0: ┤ H ├──■──┤M├───\n",
       "      └───┘┌─┴─┐└╥┘┌─┐\n",
       "q0_1: ─────┤ X ├─╫─┤M├\n",
       "           └───┘ ║ └╥┘\n",
       "c0: 2/═══════════╩══╩═\n",
       "                 0  1 "
      ]
     },
     "execution_count": 6,
     "metadata": {},
     "output_type": "execute_result"
    }
   ],
   "source": [
    "circuit.measure( qr, cr )\n",
    "circuit.draw()"
   ]
  },
  {
   "cell_type": "markdown",
   "metadata": {},
   "source": [
    "# Why though? #\n",
    "\n",
    "Alright, let's see what we have so far. Let's think of the first half of the circuit. Suppose we have a qubit that is either in state 0 or 1. Without loss of generality suppose the first qubit is: $q_0 = \\begin{pmatrix} 1 \\\\ 0 \\end{pmatrix}$. By applying the Hadamard gate we get $H(q_0)= \\begin{pmatrix} \\frac{1}{\\sqrt(2)} \\\\ \\frac{1}{\\sqrt(2)} \\end{pmatrix}$\n",
    "\n",
    "Now we want to apply the Controlled X gate. How? Shut up and calculate.\n",
    "\n",
    "$C_x \\begin{pmatrix} \\frac{1}{\\sqrt(2)} \\\\ \\frac{1}{\\sqrt(2)} \\end{pmatrix} \\otimes \\begin{pmatrix} 1 \\\\ 0 \\end{pmatrix} = C_x \\begin{pmatrix} \\frac{1}{\\sqrt(2)} \\\\ 0 \\\\ \\frac{1}{\\sqrt{2}} \\\\ 0  \\end{pmatrix} = \\begin{pmatrix} 1 & 0 & 0 & 0 \\\\ 0 & 1 & 0 & 0 \\\\ 0 & 0 & 0 & 1 \\\\ 0 & 0 & 1 & 0 \\end{pmatrix} \\begin{pmatrix} \\frac{1}{\\sqrt(2)} \\\\ 0 \\\\ \\frac{1}{\\sqrt{2}} \\\\ 0  \\end{pmatrix} = \\begin{pmatrix} \\frac{1}{\\sqrt(2)} \\\\ 0 \\\\ 0 \\\\ \\frac{1}{\\sqrt{2}}  \\end{pmatrix}$\n",
    "\n",
    "That is, this quantum state collapses to 00 with probability 1/2 and to 11 with probability 1/2. We cannot have states 01 or 10."
   ]
  },
  {
   "cell_type": "code",
   "execution_count": 7,
   "metadata": {},
   "outputs": [
    {
     "name": "stdout",
     "output_type": "stream",
     "text": [
      "first qubit:  [0.70710678 0.70710678]\n",
      "state:  [0.7071067811865475, 0.0, 0.7071067811865475, 0.0]\n",
      "state of the circuit:  [0.70710678 0.         0.         0.70710678]\n"
     ]
    }
   ],
   "source": [
    "def transform( operator, state ):\n",
    "    return np.array( operator ).dot( state )\n",
    "\n",
    "def hadamard( state ):\n",
    "    operator = [ [ 1/sqrt(2), 1/sqrt(2) ], \n",
    "                 [ 1/sqrt(2), -1/sqrt(2) ] ]\n",
    "    return transform( operator, state )\n",
    "\n",
    "def cnot( state ):\n",
    "    operator = [ [ 1, 0, 0, 0 ],\n",
    "                 [ 0, 1, 0, 0 ],\n",
    "                 [ 0, 0, 0, 1 ],\n",
    "                 [ 0, 0, 1, 0 ] ]\n",
    "    return transform( operator, state )\n",
    "\n",
    "def tensor_dot( state1, state2 ):\n",
    "    product = []\n",
    "    for x in state1:\n",
    "        for y in state2:\n",
    "            product.append( x * y )\n",
    "    return product\n",
    "\n",
    "q0 = [ 1, 0 ]\n",
    "q0 = hadamard( q0 )\n",
    "print( \"first qubit: \", q0 )\n",
    "q1 = [ 1, 0 ]\n",
    "state = tensor_dot( q0, q1 )\n",
    "print( \"state: \", state )\n",
    "res = cnot( state )\n",
    "print(\"state of the circuit: \", res )"
   ]
  },
  {
   "cell_type": "markdown",
   "metadata": {},
   "source": [
    "Therefore we can see computationally what we have already proven. Let's try to test this hypothesis using the actual quantum circuit."
   ]
  },
  {
   "cell_type": "code",
   "execution_count": 8,
   "metadata": {},
   "outputs": [],
   "source": [
    "backend = Aer.get_backend('qasm_simulator')\n",
    "result = execute( circuit, backend = backend, shots = 100 ).result()"
   ]
  },
  {
   "cell_type": "code",
   "execution_count": 9,
   "metadata": {},
   "outputs": [
    {
     "data": {
      "image/png": "[encoded data removed]",
      "text/plain": [
       "<Figure size 504x360 with 1 Axes>"
      ]
     },
     "execution_count": 9,
     "metadata": {},
     "output_type": "execute_result"
    }
   ],
   "source": [
    "#Visualize results\n",
    "plot_histogram( result.get_counts( circuit ) )"
   ]
  },
  {
   "cell_type": "markdown",
   "metadata": {},
   "source": [
    "# How about some real fun? #\n",
    "\n",
    "Let's try and run our already made circuit on an actual quantum machine. We will use the IBM Quantum Experience API.\n",
    "\n",
    "First we need to load our account using our access token."
   ]
  },
  {
   "cell_type": "code",
   "execution_count": 46,
   "metadata": {},
   "outputs": [
    {
     "name": "stderr",
     "output_type": "stream",
     "text": [
      "configrc.store_credentials:WARNING:2020-10-27 16:24:40,943: Credentials already present. Set overwrite=True to overwrite.\n",
      "ibmqfactory.load_account:WARNING:2020-10-27 16:24:41,874: Credentials are already in use. The existing account in the session will be replaced.\n"
     ]
    }
   ],
   "source": [
    "token = open(\"token.txt\").read()\n",
    "IBMQ.save_account( token )\n",
    "IBMQ.load_account()\n",
    "provider = IBMQ.get_provider('ibm-q')"
   ]
  },
  {
   "cell_type": "code",
   "execution_count": 11,
   "metadata": {},
   "outputs": [],
   "source": [
    "quantum_computer = provider.get_backend('ibmq_athens')\n",
    "experiment = execute( circuit, backend = quantum_computer )"
   ]
  },
  {
   "cell_type": "code",
   "execution_count": 12,
   "metadata": {},
   "outputs": [
    {
     "name": "stdout",
     "output_type": "stream",
     "text": [
      "Job Status: job has successfully run\n"
     ]
    }
   ],
   "source": [
    "job_monitor( experiment )"
   ]
  },
  {
   "cell_type": "code",
   "execution_count": 13,
   "metadata": {},
   "outputs": [
    {
     "data": {
      "image/png": "[encoded data removed]",
      "text/plain": [
       "<Figure size 504x360 with 1 Axes>"
      ]
     },
     "execution_count": 13,
     "metadata": {},
     "output_type": "execute_result"
    }
   ],
   "source": [
    "result = experiment.result()\n",
    "plot_histogram( result.get_counts( circuit ) )"
   ]
  },
  {
   "cell_type": "markdown",
   "metadata": {},
   "source": [
    "# YOU LIED TO US #\n",
    "\n",
    "We can see that even though we spent a fair amount of time arguing that states 01 and 10 are not allowed in our circuit there are some results that indicate otherwise.\n",
    "\n",
    "This is due to the current state of quantum technology. The quantum systems are very noisy in general and therefore prone to errors."
   ]
  },
  {
   "cell_type": "markdown",
   "metadata": {},
   "source": [
    "# Quantum Teleportation #\n",
    "\n",
    "In a classical computational setting i.e Python, C++, copying the value of a variable is literally as easy as it gets.\n",
    "\n",
    "a = 5, b = a\n",
    "\n",
    "In a quantum computer though where the registers contain a quantum state this is not so easy. In order to copy the value of a register we are implicitly doing a measurement and therefore we are destroying the quantum state.\n",
    "\n",
    "We need a way to copy the state of a quantum register onto another. This is done using Quantum Teleportation."
   ]
  },
  {
   "cell_type": "markdown",
   "metadata": {},
   "source": [
    "# Some Setup#\n",
    "\n",
    "Suppose we need to teleport a quantum state of: $\\begin{pmatrix} 1 \\\\ 0 \\end{pmatrix}$ (that is the state of 0) to some other qubit. Notice that this is not binding, we can teleport any quantum state but by teleporting a simple one it's easier to test our results.\n",
    "\n",
    "First of all we need to define a 3 qubit Quantum Register and a 3 bit Classical Register and set one qubit to the state $\\begin{pmatrix} 1 \\\\ 0 \\end{pmatrix}$"
   ]
  },
  {
   "cell_type": "code",
   "execution_count": 47,
   "metadata": {},
   "outputs": [
    {
     "data": {
      "text/html": [
       "<pre style=\"word-wrap: normal;white-space: pre;background: #fff0;line-height: 1.1;font-family: &quot;Courier New&quot;,Courier,monospace\">       \n",
       "q42_0: \n",
       "       \n",
       "q42_1: \n",
       "       \n",
       "q42_2: \n",
       "       \n",
       "c11: 3/\n",
       "       </pre>"
      ],
      "text/plain": [
       "       \n",
       "q42_0: \n",
       "       \n",
       "q42_1: \n",
       "       \n",
       "q42_2: \n",
       "       \n",
       "c11: 3/\n",
       "       "
      ]
     },
     "execution_count": 47,
     "metadata": {},
     "output_type": "execute_result"
    }
   ],
   "source": [
    "qr = QuantumRegister( 3 )\n",
    "cr = ClassicalRegister( 3 )\n",
    "circuit = QuantumCircuit( qr, cr ) \n",
    "%matplotlib inline\n",
    "circuit.draw()"
   ]
  },
  {
   "cell_type": "code",
   "execution_count": 48,
   "metadata": {},
   "outputs": [
    {
     "data": {
      "text/html": [
       "<pre style=\"word-wrap: normal;white-space: pre;background: #fff0;line-height: 1.1;font-family: &quot;Courier New&quot;,Courier,monospace\">       ┌───┐          ┌───┐ ░ ┌─┐    ░         \n",
       "q42_0: ┤ X ├───────■──┤ H ├─░─┤M├────░───────■─\n",
       "       ├───┤     ┌─┴─┐└───┘ ░ └╥┘┌─┐ ░       │ \n",
       "q42_1: ┤ H ├──■──┤ X ├──────░──╫─┤M├─░───■───┼─\n",
       "       └───┘┌─┴─┐└───┘      ░  ║ └╥┘ ░ ┌─┴─┐ │ \n",
       "q42_2: ─────┤ X ├───────────░──╫──╫──░─┤ X ├─■─\n",
       "            └───┘           ░  ║  ║  ░ └───┘   \n",
       "c11: 3/════════════════════════╩══╩════════════\n",
       "                               0  1            </pre>"
      ],
      "text/plain": [
       "       ┌───┐          ┌───┐ ░ ┌─┐    ░         \n",
       "q42_0: ┤ X ├───────■──┤ H ├─░─┤M├────░───────■─\n",
       "       ├───┤     ┌─┴─┐└───┘ ░ └╥┘┌─┐ ░       │ \n",
       "q42_1: ┤ H ├──■──┤ X ├──────░──╫─┤M├─░───■───┼─\n",
       "       └───┘┌─┴─┐└───┘      ░  ║ └╥┘ ░ ┌─┴─┐ │ \n",
       "q42_2: ─────┤ X ├───────────░──╫──╫──░─┤ X ├─■─\n",
       "            └───┘           ░  ║  ║  ░ └───┘   \n",
       "c11: 3/════════════════════════╩══╩════════════\n",
       "                               0  1            "
      ]
     },
     "execution_count": 48,
     "metadata": {},
     "output_type": "execute_result"
    }
   ],
   "source": [
    "circuit.h(1)\n",
    "circuit.cx(1,2)\n",
    "circuit.cx( 0, 1 )\n",
    "circuit.h( 0 )\n",
    "circuit.barrier()\n",
    "circuit.measure( [0, 1 ], [ 0, 1 ] )\n",
    "circuit.barrier()\n",
    "circuit.cx( 1,2 )\n",
    "circuit.cz( 0, 2)\n",
    "circuit.draw()"
   ]
  },
  {
   "cell_type": "markdown",
   "metadata": {},
   "source": [
    "Alright, this is kinda crazy, what we claim though is that  the state of qubit 0 (which is $\\begin{pmatrix} 1 \\\\ 0 \\end{pmatrix}$) has been transfered to qubit 2. \n",
    "\n",
    "That is qubit 2 will always be 0 no matter how many times it gets measured.\n",
    "\n",
    "Let's run an experiment."
   ]
  },
  {
   "cell_type": "code",
   "execution_count": 49,
   "metadata": {},
   "outputs": [
    {
     "data": {
      "image/png": "[encoded data removed]",
      "text/plain": [
       "<Figure size 504x360 with 1 Axes>"
      ]
     },
     "execution_count": 49,
     "metadata": {},
     "output_type": "execute_result"
    }
   ],
   "source": [
    "backend = Aer.get_backend('qasm_simulator')\n",
    "result = execute( circuit, backend = backend, shots = 100 ).result()\n",
    "plot_histogram( result.get_counts( circuit ) )"
   ]
  },
  {
   "cell_type": "markdown",
   "metadata": {},
   "source": [
    "# Let's do it on a quantum computer#"
   ]
  },
  {
   "cell_type": "code",
   "execution_count": 50,
   "metadata": {},
   "outputs": [],
   "source": [
    "quantum_computer = provider.get_backend('ibmq_athens')\n",
    "experiment = execute( circuit, backend = quantum_computer )"
   ]
  },
  {
   "cell_type": "code",
   "execution_count": null,
   "metadata": {},
   "outputs": [
    {
     "name": "stdout",
     "output_type": "stream",
     "text": [
      "Job Status: job is queued (13)"
     ]
    }
   ],
   "source": [
    "job_monitor( experiment )"
   ]
  },
  {
   "cell_type": "code",
   "execution_count": null,
   "metadata": {},
   "outputs": [],
   "source": [
    "result = experiment.result()\n",
    "plot_histogram( result.get_counts( circuit ) )"
   ]
  }
 ],
 "metadata": {
  "kernelspec": {
   "display_name": "Python 3",
   "language": "python",
   "name": "python3"
  },
  "language_info": {
   "codemirror_mode": {
    "name": "ipython",
    "version": 3
   },
   "file_extension": ".py",
   "mimetype": "text/x-python",
   "name": "python",
   "nbconvert_exporter": "python",
   "pygments_lexer": "ipython3",
   "version": "3.8.3"
  }
 },
 "nbformat": 4,
 "nbformat_minor": 4
}
